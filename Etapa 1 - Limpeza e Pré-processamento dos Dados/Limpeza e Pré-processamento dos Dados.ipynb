{
 "cells": [
  {
   "cell_type": "markdown",
   "id": "259f2e10",
   "metadata": {},
   "source": [
    "# Importando as bibliotecas"
   ]
  },
  {
   "cell_type": "code",
   "execution_count": 1,
   "id": "bcdb8a18",
   "metadata": {},
   "outputs": [],
   "source": [
    "from sqlalchemy import create_engine\n",
    "import pandas as pd\n",
    "import pymysql"
   ]
  },
  {
   "cell_type": "markdown",
   "id": "34815858",
   "metadata": {},
   "source": [
    "# Conexão com o Banco de dados"
   ]
  },
  {
   "cell_type": "code",
   "execution_count": 2,
   "id": "4d106fc5",
   "metadata": {},
   "outputs": [],
   "source": [
    "def mysql_connection(host, user, password, database=None):\n",
    "    engine = create_engine(f'mysql+pymysql://{user}:{password}@{host}/{database}')\n",
    "    return engine.connect()"
   ]
  },
  {
   "cell_type": "code",
   "execution_count": 3,
   "id": "efcba9ca",
   "metadata": {},
   "outputs": [],
   "source": [
    "connection =  mysql_connection(\"localhost\", \"root\", \"teste2236\",\"analise_risco\" )"
   ]
  },
  {
   "cell_type": "markdown",
   "id": "fc31a817",
   "metadata": {},
   "source": [
    "# Criando os DataFrames"
   ]
  },
  {
   "cell_type": "markdown",
   "id": "4d18d680",
   "metadata": {},
   "source": [
    "## Dados Mutuários"
   ]
  },
  {
   "cell_type": "code",
   "execution_count": 18,
   "id": "fb18f3ba",
   "metadata": {},
   "outputs": [
    {
     "data": {
      "text/html": [
       "<div>\n",
       "<style scoped>\n",
       "    .dataframe tbody tr th:only-of-type {\n",
       "        vertical-align: middle;\n",
       "    }\n",
       "\n",
       "    .dataframe tbody tr th {\n",
       "        vertical-align: top;\n",
       "    }\n",
       "\n",
       "    .dataframe thead th {\n",
       "        text-align: right;\n",
       "    }\n",
       "</style>\n",
       "<table border=\"1\" class=\"dataframe\">\n",
       "  <thead>\n",
       "    <tr style=\"text-align: right;\">\n",
       "      <th></th>\n",
       "      <th>id_pessoal</th>\n",
       "      <th>idade</th>\n",
       "      <th>salario</th>\n",
       "      <th>situacao_propriedade</th>\n",
       "      <th>tempo_trabalho</th>\n",
       "    </tr>\n",
       "  </thead>\n",
       "  <tbody>\n",
       "    <tr>\n",
       "      <th>0</th>\n",
       "      <td>tad8vkTn-vp4l</td>\n",
       "      <td>33.0</td>\n",
       "      <td>48000.0</td>\n",
       "      <td>Rent</td>\n",
       "      <td>17.0</td>\n",
       "    </tr>\n",
       "    <tr>\n",
       "      <th>1</th>\n",
       "      <td>dEILQqp2-lgLx</td>\n",
       "      <td>24.0</td>\n",
       "      <td>75000.0</td>\n",
       "      <td>Own</td>\n",
       "      <td>0.0</td>\n",
       "    </tr>\n",
       "    <tr>\n",
       "      <th>2</th>\n",
       "      <td>Az11sWWw-SdFA</td>\n",
       "      <td>29.0</td>\n",
       "      <td>28800.0</td>\n",
       "      <td>Rent</td>\n",
       "      <td>5.0</td>\n",
       "    </tr>\n",
       "    <tr>\n",
       "      <th>3</th>\n",
       "      <td>YDovEwBH-0eek</td>\n",
       "      <td>23.0</td>\n",
       "      <td>75000.0</td>\n",
       "      <td>Mortgage</td>\n",
       "      <td>7.0</td>\n",
       "    </tr>\n",
       "    <tr>\n",
       "      <th>4</th>\n",
       "      <td>lNsbfwlP-gzOE</td>\n",
       "      <td>26.0</td>\n",
       "      <td>35000.0</td>\n",
       "      <td>Rent</td>\n",
       "      <td>0.0</td>\n",
       "    </tr>\n",
       "  </tbody>\n",
       "</table>\n",
       "</div>"
      ],
      "text/plain": [
       "      id_pessoal  idade  salario situacao_propriedade  tempo_trabalho\n",
       "0  tad8vkTn-vp4l   33.0  48000.0                 Rent            17.0\n",
       "1  dEILQqp2-lgLx   24.0  75000.0                  Own             0.0\n",
       "2  Az11sWWw-SdFA   29.0  28800.0                 Rent             5.0\n",
       "3  YDovEwBH-0eek   23.0  75000.0             Mortgage             7.0\n",
       "4  lNsbfwlP-gzOE   26.0  35000.0                 Rent             0.0"
      ]
     },
     "execution_count": 18,
     "metadata": {},
     "output_type": "execute_result"
    }
   ],
   "source": [
    "dados_mutuarios = pd.read_sql_query(\"SELECT * FROM dados_mutuarios\", connection)\n",
    "dados_mutuarios.columns = [\"id_pessoal\",\"idade\",\"salario\",\"situacao_propriedade\",\"tempo_trabalho\"]\n",
    "dados_mutuarios.head()"
   ]
  },
  {
   "cell_type": "code",
   "execution_count": 25,
   "id": "2832577f",
   "metadata": {},
   "outputs": [
    {
     "name": "stdout",
     "output_type": "stream",
     "text": [
      "O DataFrame com os dados mutuários tem 34489 linhas e 5 colunas\n"
     ]
    }
   ],
   "source": [
    "print(f'O DataFrame com os dados mutuários tem {dados_mutuarios.shape[0]} linhas e {dados_mutuarios.shape[1]} colunas')"
   ]
  },
  {
   "cell_type": "code",
   "execution_count": 24,
   "id": "86bc318a",
   "metadata": {},
   "outputs": [
    {
     "data": {
      "text/plain": [
       "                 4\n",
       "tad8vkTn-vp4l    1\n",
       "k6qkYxHh-eGq9    1\n",
       "rFwCWz7t-axj5    1\n",
       "9rpWAdiI-UMFP    1\n",
       "                ..\n",
       "L5miIhEg-JqSp    1\n",
       "q6HGSybf-oXL1    1\n",
       "18GQojFZ-t8c4    1\n",
       "6qokl7TM-pt7S    1\n",
       "IoRwjwOl-lQ9u    1\n",
       "Name: id_pessoal, Length: 34486, dtype: int64"
      ]
     },
     "execution_count": 24,
     "metadata": {},
     "output_type": "execute_result"
    }
   ],
   "source": [
    "dados_mutuarios['id_pessoal'].value_counts()"
   ]
  },
  {
   "cell_type": "markdown",
   "id": "d3fb9924",
   "metadata": {},
   "source": [
    "Ao analisar a coluna id_pessoal, foram identificadas 4 entradas vazias. Isso pode resultar em perda de informações importantes ao cruzar os dados destes 4 clientes, dificultando a montagem de um perfil preciso para os modelos de Machine Learning. Será necessário avaliar essas entradas vazias posteriormente e tomar uma decisão quanto a sua inclusão ou exclusão."
   ]
  },
  {
   "cell_type": "code",
   "execution_count": 26,
   "id": "569211a1",
   "metadata": {},
   "outputs": [
    {
     "data": {
      "text/plain": [
       "23.0     4079\n",
       "22.0     3809\n",
       "24.0     3731\n",
       "25.0     3175\n",
       "26.0     2610\n",
       "27.0     2242\n",
       "28.0     1932\n",
       "29.0     1761\n",
       "30.0     1385\n",
       "21.0     1294\n",
       "31.0     1205\n",
       "32.0     1013\n",
       "33.0      910\n",
       "34.0      738\n",
       "35.0      642\n",
       "36.0      573\n",
       "37.0      505\n",
       "38.0      388\n",
       "39.0      314\n",
       "40.0      284\n",
       "41.0      252\n",
       "42.0      198\n",
       "43.0      169\n",
       "44.0      148\n",
       "45.0      113\n",
       "46.0      100\n",
       "47.0       95\n",
       "48.0       76\n",
       "50.0       58\n",
       "49.0       50\n",
       "51.0       40\n",
       "52.0       37\n",
       "53.0       34\n",
       "54.0       27\n",
       "58.0       20\n",
       "55.0       20\n",
       "57.0       15\n",
       "60.0       15\n",
       "56.0       15\n",
       "20.0       15\n",
       "64.0       10\n",
       "66.0       10\n",
       "65.0        9\n",
       "61.0        9\n",
       "70.0        8\n",
       "62.0        7\n",
       "59.0        5\n",
       "69.0        5\n",
       "144.0       3\n",
       "73.0        3\n",
       "63.0        3\n",
       "78.0        2\n",
       "123.0       2\n",
       "76.0        1\n",
       "94.0        1\n",
       "67.0        1\n",
       "80.0        1\n",
       "84.0        1\n",
       "Name: idade, dtype: int64"
      ]
     },
     "execution_count": 26,
     "metadata": {},
     "output_type": "execute_result"
    }
   ],
   "source": [
    "dados_mutuarios['idade'].value_counts()"
   ]
  },
  {
   "cell_type": "code",
   "execution_count": 30,
   "id": "7c983029",
   "metadata": {},
   "outputs": [
    {
     "data": {
      "text/html": [
       "<div>\n",
       "<style scoped>\n",
       "    .dataframe tbody tr th:only-of-type {\n",
       "        vertical-align: middle;\n",
       "    }\n",
       "\n",
       "    .dataframe tbody tr th {\n",
       "        vertical-align: top;\n",
       "    }\n",
       "\n",
       "    .dataframe thead th {\n",
       "        text-align: right;\n",
       "    }\n",
       "</style>\n",
       "<table border=\"1\" class=\"dataframe\">\n",
       "  <thead>\n",
       "    <tr style=\"text-align: right;\">\n",
       "      <th></th>\n",
       "      <th>id_pessoal</th>\n",
       "      <th>idade</th>\n",
       "      <th>salario</th>\n",
       "      <th>situacao_propriedade</th>\n",
       "      <th>tempo_trabalho</th>\n",
       "    </tr>\n",
       "  </thead>\n",
       "  <tbody>\n",
       "    <tr>\n",
       "      <th>11812</th>\n",
       "      <td>9KZ6344x-RDHc</td>\n",
       "      <td>123.0</td>\n",
       "      <td>80004.0</td>\n",
       "      <td>Rent</td>\n",
       "      <td>2.0</td>\n",
       "    </tr>\n",
       "    <tr>\n",
       "      <th>16030</th>\n",
       "      <td>5fi1GWSO-oQcb</td>\n",
       "      <td>144.0</td>\n",
       "      <td>200000.0</td>\n",
       "      <td>Mortgage</td>\n",
       "      <td>4.0</td>\n",
       "    </tr>\n",
       "    <tr>\n",
       "      <th>16051</th>\n",
       "      <td>PBb5WjDd-yZ2g</td>\n",
       "      <td>123.0</td>\n",
       "      <td>78000.0</td>\n",
       "      <td>Rent</td>\n",
       "      <td>7.0</td>\n",
       "    </tr>\n",
       "    <tr>\n",
       "      <th>26573</th>\n",
       "      <td>TwZcn29T-CPBK</td>\n",
       "      <td>144.0</td>\n",
       "      <td>250000.0</td>\n",
       "      <td>Rent</td>\n",
       "      <td>4.0</td>\n",
       "    </tr>\n",
       "    <tr>\n",
       "      <th>28756</th>\n",
       "      <td>ZpG5kPRS-oxN1</td>\n",
       "      <td>144.0</td>\n",
       "      <td>6000000.0</td>\n",
       "      <td>Mortgage</td>\n",
       "      <td>12.0</td>\n",
       "    </tr>\n",
       "  </tbody>\n",
       "</table>\n",
       "</div>"
      ],
      "text/plain": [
       "          id_pessoal  idade    salario situacao_propriedade  tempo_trabalho\n",
       "11812  9KZ6344x-RDHc  123.0    80004.0                 Rent             2.0\n",
       "16030  5fi1GWSO-oQcb  144.0   200000.0             Mortgage             4.0\n",
       "16051  PBb5WjDd-yZ2g  123.0    78000.0                 Rent             7.0\n",
       "26573  TwZcn29T-CPBK  144.0   250000.0                 Rent             4.0\n",
       "28756  ZpG5kPRS-oxN1  144.0  6000000.0             Mortgage            12.0"
      ]
     },
     "execution_count": 30,
     "metadata": {},
     "output_type": "execute_result"
    }
   ],
   "source": [
    "dados_mutuarios.query('idade > 100 or idade < 18')"
   ]
  },
  {
   "cell_type": "markdown",
   "id": "afbca31c",
   "metadata": {},
   "source": [
    "Existem algumas entradas inconsistentes na variável idade. Existem alguns usuários cadastrados no banco de dados, com mais de cem anos."
   ]
  },
  {
   "cell_type": "code",
   "execution_count": 31,
   "id": "2bc4b0d8",
   "metadata": {},
   "outputs": [
    {
     "data": {
      "text/plain": [
       "60000.0    1097\n",
       "30000.0     886\n",
       "50000.0     810\n",
       "40000.0     694\n",
       "45000.0     618\n",
       "           ... \n",
       "41725.0       1\n",
       "58570.0       1\n",
       "74250.0       1\n",
       "36225.0       1\n",
       "51888.0       1\n",
       "Name: salario, Length: 4295, dtype: int64"
      ]
     },
     "execution_count": 31,
     "metadata": {},
     "output_type": "execute_result"
    }
   ],
   "source": [
    "dados_mutuarios['salario'].value_counts()"
   ]
  },
  {
   "cell_type": "code",
   "execution_count": 32,
   "id": "8a68e553",
   "metadata": {},
   "outputs": [
    {
     "data": {
      "text/plain": [
       "Rent        17237\n",
       "Mortgage    14094\n",
       "Own          2717\n",
       "              331\n",
       "Other         110\n",
       "Name: situacao_propriedade, dtype: int64"
      ]
     },
     "execution_count": 32,
     "metadata": {},
     "output_type": "execute_result"
    }
   ],
   "source": [
    "dados_mutuarios['situacao_propriedade'].value_counts()"
   ]
  },
  {
   "cell_type": "markdown",
   "id": "634f2772",
   "metadata": {},
   "source": [
    "Existem 331 entradas sem informação sobre a situação da propriedade."
   ]
  },
  {
   "cell_type": "code",
   "execution_count": 33,
   "id": "0c22ae5f",
   "metadata": {},
   "outputs": [
    {
     "data": {
      "text/plain": [
       "0.0      4317\n",
       "2.0      4044\n",
       "3.0      3615\n",
       "5.0      3091\n",
       "1.0      3051\n",
       "4.0      3006\n",
       "6.0      2799\n",
       "7.0      2312\n",
       "8.0      1774\n",
       "9.0      1434\n",
       "11.0      790\n",
       "10.0      721\n",
       "12.0      596\n",
       "13.0      441\n",
       "14.0      351\n",
       "15.0      246\n",
       "16.0      171\n",
       "17.0      137\n",
       "18.0      110\n",
       "19.0       68\n",
       "20.0       44\n",
       "21.0       39\n",
       "22.0       19\n",
       "24.0       11\n",
       "23.0       11\n",
       "25.0        9\n",
       "26.0        7\n",
       "27.0        5\n",
       "28.0        4\n",
       "31.0        4\n",
       "123.0       2\n",
       "30.0        2\n",
       "41.0        1\n",
       "38.0        1\n",
       "29.0        1\n",
       "34.0        1\n",
       "Name: tempo_trabalho, dtype: int64"
      ]
     },
     "execution_count": 33,
     "metadata": {},
     "output_type": "execute_result"
    }
   ],
   "source": [
    "dados_mutuarios['tempo_trabalho'].value_counts()"
   ]
  },
  {
   "cell_type": "markdown",
   "id": "d5877e8d",
   "metadata": {},
   "source": [
    "## Emprestimos"
   ]
  },
  {
   "cell_type": "code",
   "execution_count": 19,
   "id": "6fc5f443",
   "metadata": {},
   "outputs": [
    {
     "data": {
      "text/html": [
       "<div>\n",
       "<style scoped>\n",
       "    .dataframe tbody tr th:only-of-type {\n",
       "        vertical-align: middle;\n",
       "    }\n",
       "\n",
       "    .dataframe tbody tr th {\n",
       "        vertical-align: top;\n",
       "    }\n",
       "\n",
       "    .dataframe thead th {\n",
       "        text-align: right;\n",
       "    }\n",
       "</style>\n",
       "<table border=\"1\" class=\"dataframe\">\n",
       "  <thead>\n",
       "    <tr style=\"text-align: right;\">\n",
       "      <th></th>\n",
       "      <th>id_emprestimo</th>\n",
       "      <th>motivo</th>\n",
       "      <th>pontuacao</th>\n",
       "      <th>valor</th>\n",
       "      <th>taxa_juros</th>\n",
       "      <th>inadimplencia</th>\n",
       "      <th>renda_percentual</th>\n",
       "    </tr>\n",
       "  </thead>\n",
       "  <tbody>\n",
       "    <tr>\n",
       "      <th>0</th>\n",
       "      <td>NMgFWFWN-2yGG</td>\n",
       "      <td>Homeimprovement</td>\n",
       "      <td>C</td>\n",
       "      <td>20000.0</td>\n",
       "      <td>13.22</td>\n",
       "      <td>0.0</td>\n",
       "      <td>0.22</td>\n",
       "    </tr>\n",
       "    <tr>\n",
       "      <th>1</th>\n",
       "      <td>08Ts3XSa-KkvE</td>\n",
       "      <td>Venture</td>\n",
       "      <td>C</td>\n",
       "      <td>6000.0</td>\n",
       "      <td>13.49</td>\n",
       "      <td>0.0</td>\n",
       "      <td>0.04</td>\n",
       "    </tr>\n",
       "    <tr>\n",
       "      <th>2</th>\n",
       "      <td>xo79pAME-elmp</td>\n",
       "      <td>Personal</td>\n",
       "      <td>A</td>\n",
       "      <td>8000.0</td>\n",
       "      <td>6.17</td>\n",
       "      <td>0.0</td>\n",
       "      <td>0.13</td>\n",
       "    </tr>\n",
       "    <tr>\n",
       "      <th>3</th>\n",
       "      <td>IB6lBS2h-nWhz</td>\n",
       "      <td>Homeimprovement</td>\n",
       "      <td>B</td>\n",
       "      <td>9600.0</td>\n",
       "      <td>10.08</td>\n",
       "      <td>0.0</td>\n",
       "      <td>0.16</td>\n",
       "    </tr>\n",
       "    <tr>\n",
       "      <th>4</th>\n",
       "      <td>CONLtJHn-1yde</td>\n",
       "      <td>Medical</td>\n",
       "      <td>A</td>\n",
       "      <td>6500.0</td>\n",
       "      <td>8.49</td>\n",
       "      <td>0.0</td>\n",
       "      <td>0.30</td>\n",
       "    </tr>\n",
       "  </tbody>\n",
       "</table>\n",
       "</div>"
      ],
      "text/plain": [
       "   id_emprestimo           motivo pontuacao    valor  taxa_juros  \\\n",
       "0  NMgFWFWN-2yGG  Homeimprovement         C  20000.0       13.22   \n",
       "1  08Ts3XSa-KkvE          Venture         C   6000.0       13.49   \n",
       "2  xo79pAME-elmp         Personal         A   8000.0        6.17   \n",
       "3  IB6lBS2h-nWhz  Homeimprovement         B   9600.0       10.08   \n",
       "4  CONLtJHn-1yde          Medical         A   6500.0        8.49   \n",
       "\n",
       "   inadimplencia  renda_percentual  \n",
       "0            0.0              0.22  \n",
       "1            0.0              0.04  \n",
       "2            0.0              0.13  \n",
       "3            0.0              0.16  \n",
       "4            0.0              0.30  "
      ]
     },
     "execution_count": 19,
     "metadata": {},
     "output_type": "execute_result"
    }
   ],
   "source": [
    "emprestimos = pd.read_sql_query(\"SELECT * FROM emprestimos\", connection)\n",
    "emprestimos.columns = [\"id_emprestimo\",\"motivo\",\"pontuacao\",\"valor\",\"taxa_juros\",\"inadimplencia\",\"renda_percentual\"]\n",
    "emprestimos.head()"
   ]
  },
  {
   "cell_type": "code",
   "execution_count": 34,
   "id": "ab337bef",
   "metadata": {},
   "outputs": [
    {
     "data": {
      "text/plain": [
       "NMgFWFWN-2yGG    1\n",
       "y8MsBbLa-aSFe    1\n",
       "pDhzNJ3y-UMgu    1\n",
       "wj6WcdT5-7HBi    1\n",
       "OG3lUkqF-RYqF    1\n",
       "                ..\n",
       "yw9L2T32-rwGD    1\n",
       "3gislqGQ-BAUW    1\n",
       "LwdHLn2b-jJ4h    1\n",
       "X1iMYKFZ-Y9vt    1\n",
       "GhqTLrER-Zhig    1\n",
       "Name: id_emprestimo, Length: 34489, dtype: int64"
      ]
     },
     "execution_count": 34,
     "metadata": {},
     "output_type": "execute_result"
    }
   ],
   "source": [
    "emprestimos.id_emprestimo.value_counts()"
   ]
  },
  {
   "cell_type": "code",
   "execution_count": 35,
   "id": "45263d6b",
   "metadata": {},
   "outputs": [
    {
     "data": {
      "text/plain": [
       "Education            6771\n",
       "Medical              6380\n",
       "Venture              5977\n",
       "Personal             5782\n",
       "Debtconsolidation    5476\n",
       "Homeimprovement      3791\n",
       "                      312\n",
       "Name: motivo, dtype: int64"
      ]
     },
     "execution_count": 35,
     "metadata": {},
     "output_type": "execute_result"
    }
   ],
   "source": [
    "emprestimos.motivo.value_counts()"
   ]
  },
  {
   "cell_type": "code",
   "execution_count": 36,
   "id": "24fe0683",
   "metadata": {},
   "outputs": [
    {
     "data": {
      "text/plain": [
       "A    11324\n",
       "B    10955\n",
       "C     6765\n",
       "D     3810\n",
       "E     1007\n",
       "       310\n",
       "F      254\n",
       "G       64\n",
       "Name: pontuacao, dtype: int64"
      ]
     },
     "execution_count": 36,
     "metadata": {},
     "output_type": "execute_result"
    }
   ],
   "source": [
    "emprestimos.pontuacao.value_counts()"
   ]
  },
  {
   "cell_type": "code",
   "execution_count": 38,
   "id": "b9287fab",
   "metadata": {},
   "outputs": [
    {
     "data": {
      "text/plain": [
       "10000.0    2798\n",
       "5000.0     2122\n",
       "12000.0    1905\n",
       "6000.0     1899\n",
       "15000.0    1582\n",
       "           ... \n",
       "5725.0        1\n",
       "1225.0        1\n",
       "7225.0        1\n",
       "750.0         1\n",
       "30600.0       1\n",
       "Name: valor, Length: 753, dtype: int64"
      ]
     },
     "execution_count": 38,
     "metadata": {},
     "output_type": "execute_result"
    }
   ],
   "source": [
    "emprestimos.valor.value_counts()"
   ]
  },
  {
   "cell_type": "code",
   "execution_count": 39,
   "id": "2109012a",
   "metadata": {},
   "outputs": [
    {
     "data": {
      "text/plain": [
       "10.99    795\n",
       "7.51     789\n",
       "7.88     680\n",
       "7.49     679\n",
       "5.42     622\n",
       "        ... \n",
       "20.52      1\n",
       "17.44      1\n",
       "20.48      1\n",
       "17.34      1\n",
       "16.71      1\n",
       "Name: taxa_juros, Length: 348, dtype: int64"
      ]
     },
     "execution_count": 39,
     "metadata": {},
     "output_type": "execute_result"
    }
   ],
   "source": [
    "emprestimos.taxa_juros.value_counts()"
   ]
  },
  {
   "cell_type": "code",
   "execution_count": 40,
   "id": "c85d9189",
   "metadata": {},
   "outputs": [
    {
     "data": {
      "text/plain": [
       "Index(['id_emprestimo', 'motivo', 'pontuacao', 'valor', 'taxa_juros',\n",
       "       'inadimplencia', 'renda_percentual'],\n",
       "      dtype='object')"
      ]
     },
     "execution_count": 40,
     "metadata": {},
     "output_type": "execute_result"
    }
   ],
   "source": [
    "emprestimos.columns"
   ]
  },
  {
   "cell_type": "code",
   "execution_count": 41,
   "id": "b13d85d0",
   "metadata": {},
   "outputs": [
    {
     "data": {
      "text/plain": [
       "0.0    26696\n",
       "1.0     7450\n",
       "Name: inadimplencia, dtype: int64"
      ]
     },
     "execution_count": 41,
     "metadata": {},
     "output_type": "execute_result"
    }
   ],
   "source": [
    "emprestimos.inadimplencia.value_counts()"
   ]
  },
  {
   "cell_type": "code",
   "execution_count": 43,
   "id": "4599023d",
   "metadata": {},
   "outputs": [
    {
     "data": {
      "text/plain": [
       "0.10    1615\n",
       "0.13    1550\n",
       "0.08    1504\n",
       "0.11    1459\n",
       "0.07    1456\n",
       "        ... \n",
       "0.66       2\n",
       "0.83       1\n",
       "0.72       1\n",
       "0.62       1\n",
       "0.78       1\n",
       "Name: renda_percentual, Length: 77, dtype: int64"
      ]
     },
     "execution_count": 43,
     "metadata": {},
     "output_type": "execute_result"
    }
   ],
   "source": [
    "emprestimos.renda_percentual.value_counts()"
   ]
  },
  {
   "cell_type": "markdown",
   "id": "da63271a",
   "metadata": {},
   "source": [
    "## Histórico "
   ]
  },
  {
   "cell_type": "code",
   "execution_count": 20,
   "id": "2c3e613d",
   "metadata": {},
   "outputs": [
    {
     "data": {
      "text/html": [
       "<div>\n",
       "<style scoped>\n",
       "    .dataframe tbody tr th:only-of-type {\n",
       "        vertical-align: middle;\n",
       "    }\n",
       "\n",
       "    .dataframe tbody tr th {\n",
       "        vertical-align: top;\n",
       "    }\n",
       "\n",
       "    .dataframe thead th {\n",
       "        text-align: right;\n",
       "    }\n",
       "</style>\n",
       "<table border=\"1\" class=\"dataframe\">\n",
       "  <thead>\n",
       "    <tr style=\"text-align: right;\">\n",
       "      <th></th>\n",
       "      <th>id_historico</th>\n",
       "      <th>inadimplente</th>\n",
       "      <th>tempo_credito</th>\n",
       "    </tr>\n",
       "  </thead>\n",
       "  <tbody>\n",
       "    <tr>\n",
       "      <th>0</th>\n",
       "      <td>ZNWGR0Ap-FDt2</td>\n",
       "      <td>N</td>\n",
       "      <td>9.0</td>\n",
       "    </tr>\n",
       "    <tr>\n",
       "      <th>1</th>\n",
       "      <td>wqALDH4x-mnzE</td>\n",
       "      <td>N</td>\n",
       "      <td>7.0</td>\n",
       "    </tr>\n",
       "    <tr>\n",
       "      <th>2</th>\n",
       "      <td>57O09sJw-NBKj</td>\n",
       "      <td>N</td>\n",
       "      <td>6.0</td>\n",
       "    </tr>\n",
       "    <tr>\n",
       "      <th>3</th>\n",
       "      <td>pH50QiTJ-0jqz</td>\n",
       "      <td>Y</td>\n",
       "      <td>10.0</td>\n",
       "    </tr>\n",
       "    <tr>\n",
       "      <th>4</th>\n",
       "      <td>3voX5CIK-tCxE</td>\n",
       "      <td>N</td>\n",
       "      <td>12.0</td>\n",
       "    </tr>\n",
       "  </tbody>\n",
       "</table>\n",
       "</div>"
      ],
      "text/plain": [
       "    id_historico inadimplente  tempo_credito\n",
       "0  ZNWGR0Ap-FDt2            N            9.0\n",
       "1  wqALDH4x-mnzE            N            7.0\n",
       "2  57O09sJw-NBKj            N            6.0\n",
       "3  pH50QiTJ-0jqz            Y           10.0\n",
       "4  3voX5CIK-tCxE            N           12.0"
      ]
     },
     "execution_count": 20,
     "metadata": {},
     "output_type": "execute_result"
    }
   ],
   "source": [
    "historico_banco = pd.read_sql_query(\"SELECT * FROM historicos_banco\", connection)\n",
    "historico_banco.columns = [\"id_historico\",\"inadimplente\",\"tempo_credito\"]\n",
    "historico_banco.head()"
   ]
  },
  {
   "cell_type": "code",
   "execution_count": 44,
   "id": "20bf64e8",
   "metadata": {},
   "outputs": [
    {
     "data": {
      "text/plain": [
       "N    28122\n",
       "Y     6000\n",
       "       367\n",
       "Name: inadimplente, dtype: int64"
      ]
     },
     "execution_count": 44,
     "metadata": {},
     "output_type": "execute_result"
    }
   ],
   "source": [
    "historico_banco.inadimplente.value_counts()"
   ]
  },
  {
   "cell_type": "code",
   "execution_count": 45,
   "id": "f993491d",
   "metadata": {},
   "outputs": [
    {
     "data": {
      "text/plain": [
       "2.0     6312\n",
       "3.0     6290\n",
       "4.0     6280\n",
       "7.0     2008\n",
       "8.0     2003\n",
       "5.0     2000\n",
       "9.0     1992\n",
       "10.0    1973\n",
       "6.0     1951\n",
       "14.0     525\n",
       "12.0     510\n",
       "11.0     488\n",
       "16.0     476\n",
       "13.0     475\n",
       "15.0     470\n",
       "17.0     431\n",
       "20.0      34\n",
       "24.0      32\n",
       "28.0      30\n",
       "27.0      25\n",
       "30.0      24\n",
       "23.0      24\n",
       "22.0      23\n",
       "21.0      22\n",
       "19.0      21\n",
       "18.0      20\n",
       "25.0      19\n",
       "26.0      16\n",
       "29.0      14\n",
       "Name: tempo_credito, dtype: int64"
      ]
     },
     "execution_count": 45,
     "metadata": {},
     "output_type": "execute_result"
    }
   ],
   "source": [
    "historico_banco.tempo_credito.value_counts()"
   ]
  },
  {
   "cell_type": "markdown",
   "id": "1912daf8",
   "metadata": {},
   "source": [
    "## Ids"
   ]
  },
  {
   "cell_type": "code",
   "execution_count": 11,
   "id": "857cd0b5",
   "metadata": {},
   "outputs": [
    {
     "data": {
      "text/html": [
       "<div>\n",
       "<style scoped>\n",
       "    .dataframe tbody tr th:only-of-type {\n",
       "        vertical-align: middle;\n",
       "    }\n",
       "\n",
       "    .dataframe tbody tr th {\n",
       "        vertical-align: top;\n",
       "    }\n",
       "\n",
       "    .dataframe thead th {\n",
       "        text-align: right;\n",
       "    }\n",
       "</style>\n",
       "<table border=\"1\" class=\"dataframe\">\n",
       "  <thead>\n",
       "    <tr style=\"text-align: right;\">\n",
       "      <th></th>\n",
       "      <th>id_pessoa</th>\n",
       "      <th>id_emprestimo</th>\n",
       "      <th>id_historico</th>\n",
       "    </tr>\n",
       "  </thead>\n",
       "  <tbody>\n",
       "    <tr>\n",
       "      <th>0</th>\n",
       "      <td>JAz2tRvQ-14cy</td>\n",
       "      <td>pjEu6snv-4t33</td>\n",
       "      <td>FIgNSkrG-wen7</td>\n",
       "    </tr>\n",
       "    <tr>\n",
       "      <th>1</th>\n",
       "      <td>MZSefq9m-loYS</td>\n",
       "      <td>Mfn0Csx4-LGM3</td>\n",
       "      <td>QPDJUQfQ-DJqK</td>\n",
       "    </tr>\n",
       "    <tr>\n",
       "      <th>2</th>\n",
       "      <td>cRItaaPB-pRvT</td>\n",
       "      <td>Ks4nz74P-z6Iq</td>\n",
       "      <td>hzAXqSDh-ay7Q</td>\n",
       "    </tr>\n",
       "    <tr>\n",
       "      <th>3</th>\n",
       "      <td>5jTDCfXS-zaAq</td>\n",
       "      <td>ZFlwW08i-I3Al</td>\n",
       "      <td>LiAivrS4-J5DE</td>\n",
       "    </tr>\n",
       "    <tr>\n",
       "      <th>4</th>\n",
       "      <td>Hbz9PtI3-tOFs</td>\n",
       "      <td>bFMFchcv-UwQW</td>\n",
       "      <td>PkBixMJ3-3bad</td>\n",
       "    </tr>\n",
       "  </tbody>\n",
       "</table>\n",
       "</div>"
      ],
      "text/plain": [
       "       id_pessoa  id_emprestimo   id_historico\n",
       "0  JAz2tRvQ-14cy  pjEu6snv-4t33  FIgNSkrG-wen7\n",
       "1  MZSefq9m-loYS  Mfn0Csx4-LGM3  QPDJUQfQ-DJqK\n",
       "2  cRItaaPB-pRvT  Ks4nz74P-z6Iq  hzAXqSDh-ay7Q\n",
       "3  5jTDCfXS-zaAq  ZFlwW08i-I3Al  LiAivrS4-J5DE\n",
       "4  Hbz9PtI3-tOFs  bFMFchcv-UwQW  PkBixMJ3-3bad"
      ]
     },
     "execution_count": 11,
     "metadata": {},
     "output_type": "execute_result"
    }
   ],
   "source": [
    "ids = pd.read_sql_query(\"SELECT * FROM ids\", connection)\n",
    "ids.columns = [\"id_pessoa\",\"id_emprestimo\",\"id_historico\"]\n",
    "ids.head()"
   ]
  },
  {
   "cell_type": "code",
   "execution_count": 51,
   "id": "d94f3471",
   "metadata": {},
   "outputs": [
    {
     "name": "stdout",
     "output_type": "stream",
     "text": [
      "Da variável: id_pessoa\n",
      "                 4\n",
      "JAz2tRvQ-14cy    1\n",
      "Hm07DgPA-XkMt    1\n",
      "XzKyorQH-uSCc    1\n",
      "ftJIyo1P-uHL7    1\n",
      "                ..\n",
      "v5bWKyj1-qyBN    1\n",
      "AvpUlHD0-CZcw    1\n",
      "JlUBw7JQ-oncA    1\n",
      "o6JMgTsH-4ve6    1\n",
      "2OjPj0Cv-Ohe3    1\n",
      "Name: id_pessoa, Length: 34486, dtype: int64\n",
      "\n",
      "Da variável: id_emprestimo\n",
      "pjEu6snv-4t33    1\n",
      "CaTUCyAH-Oy5e    1\n",
      "dmC5eJcg-TjRY    1\n",
      "I4hOtl6q-CHeq    1\n",
      "sL5yMaoq-u9hs    1\n",
      "                ..\n",
      "Caj8UitA-y0kX    1\n",
      "MUDgAINY-Ph3w    1\n",
      "JCyN26Ta-HSKv    1\n",
      "eyvZB1ho-FxFG    1\n",
      "XCwnpXOc-QxGQ    1\n",
      "Name: id_emprestimo, Length: 34489, dtype: int64\n",
      "\n",
      "Da variável: id_historico\n",
      "FIgNSkrG-wen7    1\n",
      "1RsoyYo1-tPZf    1\n",
      "9XjPuuic-PnJL    1\n",
      "DefUkcll-4YTU    1\n",
      "eAKkgCYJ-9GAv    1\n",
      "                ..\n",
      "rzsXZxSR-jvSi    1\n",
      "ZOvKdko9-eulw    1\n",
      "dfUvxSdC-4USR    1\n",
      "iqhydGgE-tPmd    1\n",
      "lUcqMLJE-pqLe    1\n",
      "Name: id_historico, Length: 34489, dtype: int64\n",
      "\n"
     ]
    }
   ],
   "source": [
    "for coluna in ids.columns:\n",
    "    print(f'Da variável: {coluna}')\n",
    "    print(ids[coluna].value_counts())\n",
    "    print()"
   ]
  },
  {
   "cell_type": "markdown",
   "id": "59ff2c40",
   "metadata": {},
   "source": [
    "# Junção dos DataFrames"
   ]
  },
  {
   "cell_type": "code",
   "execution_count": 17,
   "id": "501c74a0",
   "metadata": {},
   "outputs": [
    {
     "data": {
      "text/html": [
       "<div>\n",
       "<style scoped>\n",
       "    .dataframe tbody tr th:only-of-type {\n",
       "        vertical-align: middle;\n",
       "    }\n",
       "\n",
       "    .dataframe tbody tr th {\n",
       "        vertical-align: top;\n",
       "    }\n",
       "\n",
       "    .dataframe thead th {\n",
       "        text-align: right;\n",
       "    }\n",
       "</style>\n",
       "<table border=\"1\" class=\"dataframe\">\n",
       "  <thead>\n",
       "    <tr style=\"text-align: right;\">\n",
       "      <th></th>\n",
       "      <th>id_pessoa</th>\n",
       "      <th>id_emprestimo</th>\n",
       "      <th>id_historico</th>\n",
       "      <th>inadimplente</th>\n",
       "      <th>tempo_credito</th>\n",
       "    </tr>\n",
       "  </thead>\n",
       "  <tbody>\n",
       "    <tr>\n",
       "      <th>0</th>\n",
       "      <td>JAz2tRvQ-14cy</td>\n",
       "      <td>pjEu6snv-4t33</td>\n",
       "      <td>FIgNSkrG-wen7</td>\n",
       "      <td>Y</td>\n",
       "      <td>2.0</td>\n",
       "    </tr>\n",
       "    <tr>\n",
       "      <th>1</th>\n",
       "      <td>MZSefq9m-loYS</td>\n",
       "      <td>Mfn0Csx4-LGM3</td>\n",
       "      <td>QPDJUQfQ-DJqK</td>\n",
       "      <td>N</td>\n",
       "      <td>4.0</td>\n",
       "    </tr>\n",
       "    <tr>\n",
       "      <th>2</th>\n",
       "      <td>cRItaaPB-pRvT</td>\n",
       "      <td>Ks4nz74P-z6Iq</td>\n",
       "      <td>hzAXqSDh-ay7Q</td>\n",
       "      <td>N</td>\n",
       "      <td>6.0</td>\n",
       "    </tr>\n",
       "    <tr>\n",
       "      <th>3</th>\n",
       "      <td>5jTDCfXS-zaAq</td>\n",
       "      <td>ZFlwW08i-I3Al</td>\n",
       "      <td>LiAivrS4-J5DE</td>\n",
       "      <td></td>\n",
       "      <td>11.0</td>\n",
       "    </tr>\n",
       "    <tr>\n",
       "      <th>4</th>\n",
       "      <td>Hbz9PtI3-tOFs</td>\n",
       "      <td>bFMFchcv-UwQW</td>\n",
       "      <td>PkBixMJ3-3bad</td>\n",
       "      <td>Y</td>\n",
       "      <td>6.0</td>\n",
       "    </tr>\n",
       "  </tbody>\n",
       "</table>\n",
       "</div>"
      ],
      "text/plain": [
       "       id_pessoa  id_emprestimo   id_historico inadimplente  tempo_credito\n",
       "0  JAz2tRvQ-14cy  pjEu6snv-4t33  FIgNSkrG-wen7            Y            2.0\n",
       "1  MZSefq9m-loYS  Mfn0Csx4-LGM3  QPDJUQfQ-DJqK            N            4.0\n",
       "2  cRItaaPB-pRvT  Ks4nz74P-z6Iq  hzAXqSDh-ay7Q            N            6.0\n",
       "3  5jTDCfXS-zaAq  ZFlwW08i-I3Al  LiAivrS4-J5DE                        11.0\n",
       "4  Hbz9PtI3-tOFs  bFMFchcv-UwQW  PkBixMJ3-3bad            Y            6.0"
      ]
     },
     "execution_count": 17,
     "metadata": {},
     "output_type": "execute_result"
    }
   ],
   "source": [
    "df_merged = ids.merge(historico_banco, left_on=\"id_historico\", right_on=\"id_historico\")\n",
    "df_merged.head()"
   ]
  },
  {
   "cell_type": "code",
   "execution_count": null,
   "id": "a216a6d5",
   "metadata": {},
   "outputs": [],
   "source": []
  }
 ],
 "metadata": {
  "kernelspec": {
   "display_name": "Python 3 (ipykernel)",
   "language": "python",
   "name": "python3"
  },
  "language_info": {
   "codemirror_mode": {
    "name": "ipython",
    "version": 3
   },
   "file_extension": ".py",
   "mimetype": "text/x-python",
   "name": "python",
   "nbconvert_exporter": "python",
   "pygments_lexer": "ipython3",
   "version": "3.10.4"
  },
  "nbTranslate": {
   "displayLangs": [
    "en",
    "pt-br"
   ],
   "hotkey": "alt-t",
   "langInMainMenu": true,
   "sourceLang": "pt-br",
   "targetLang": "en",
   "useGoogleTranslate": true
  },
  "toc": {
   "base_numbering": 1,
   "nav_menu": {},
   "number_sections": true,
   "sideBar": true,
   "skip_h1_title": false,
   "title_cell": "Table of Contents",
   "title_sidebar": "Contents",
   "toc_cell": false,
   "toc_position": {},
   "toc_section_display": true,
   "toc_window_display": false
  },
  "varInspector": {
   "cols": {
    "lenName": 16,
    "lenType": 16,
    "lenVar": 40
   },
   "kernels_config": {
    "python": {
     "delete_cmd_postfix": "",
     "delete_cmd_prefix": "del ",
     "library": "var_list.py",
     "varRefreshCmd": "print(var_dic_list())"
    },
    "r": {
     "delete_cmd_postfix": ") ",
     "delete_cmd_prefix": "rm(",
     "library": "var_list.r",
     "varRefreshCmd": "cat(var_dic_list()) "
    }
   },
   "types_to_exclude": [
    "module",
    "function",
    "builtin_function_or_method",
    "instance",
    "_Feature"
   ],
   "window_display": false
  }
 },
 "nbformat": 4,
 "nbformat_minor": 5
}
